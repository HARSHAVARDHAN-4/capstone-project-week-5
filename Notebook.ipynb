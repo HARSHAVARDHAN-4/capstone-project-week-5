{
 "cells": [
  {
   "cell_type": "markdown",
   "metadata": {},
   "source": [
    "# First we import the required libraries"
   ]
  },
  {
   "cell_type": "code",
   "execution_count": 1,
   "metadata": {},
   "outputs": [
    {
     "name": "stdout",
     "output_type": "stream",
     "text": [
      "Requirement already satisfied: geopy in c:\\users\\harshavardhan\\anaconda3\\lib\\site-packages (2.0.0)\n",
      "Requirement already satisfied: geographiclib<2,>=1.49 in c:\\users\\harshavardhan\\anaconda3\\lib\\site-packages (from geopy) (1.50)\n",
      "Libraries imported.\n"
     ]
    }
   ],
   "source": [
    "import numpy as np # library to handle data in a vectorized manner\n",
    "\n",
    "import pandas as pd # library for data analsysis\n",
    "pd.set_option('display.max_columns', None)\n",
    "pd.set_option('display.max_rows', None)\n",
    "\n",
    "import json # library to handle JSON files\n",
    "\n",
    "#!pip install selenium\n",
    "\n",
    "#!conda install -c conda-forge geopy --yes # uncomment this line if you haven't completed the Foursquare API lab\n",
    "!pip install geopy\n",
    "from geopy.geocoders import Nominatim # convert an address into latitude and longitude values\n",
    "\n",
    "import requests # library to handle requests\n",
    "from pandas.io.json import json_normalize # tranform JSON file into a pandas dataframe\n",
    "\n",
    "# Matplotlib and associated plotting modules\n",
    "import matplotlib.cm as cm\n",
    "import matplotlib.colors as colors\n",
    "\n",
    "# import k-means from clustering stage\n",
    "from sklearn.cluster import KMeans\n",
    "\n",
    "print('Libraries imported.')"
   ]
  },
  {
   "cell_type": "markdown",
   "metadata": {},
   "source": [
    "# The data to be used is a csv file uploaded unto my data in the cognitive lab.\n",
    "We begin by reading the csv data from the source and loading it into a pandas dataframe."
   ]
  },
  {
   "cell_type": "code",
   "execution_count": 17,
   "metadata": {},
   "outputs": [
    {
     "data": {
      "text/html": [
       "<div>\n",
       "<style scoped>\n",
       "    .dataframe tbody tr th:only-of-type {\n",
       "        vertical-align: middle;\n",
       "    }\n",
       "\n",
       "    .dataframe tbody tr th {\n",
       "        vertical-align: top;\n",
       "    }\n",
       "\n",
       "    .dataframe thead th {\n",
       "        text-align: right;\n",
       "    }\n",
       "</style>\n",
       "<table border=\"1\" class=\"dataframe\">\n",
       "  <thead>\n",
       "    <tr style=\"text-align: right;\">\n",
       "      <th></th>\n",
       "      <th>City Name</th>\n",
       "      <th>city_ascii</th>\n",
       "      <th>State Id</th>\n",
       "      <th>State Name</th>\n",
       "      <th>County Code</th>\n",
       "      <th>County Name</th>\n",
       "      <th>County Code_all</th>\n",
       "      <th>County Name.1</th>\n",
       "      <th>Latitude</th>\n",
       "      <th>Longitude</th>\n",
       "      <th>population</th>\n",
       "      <th>density</th>\n",
       "      <th>source</th>\n",
       "      <th>military</th>\n",
       "      <th>incorporated</th>\n",
       "      <th>timezone</th>\n",
       "      <th>ranking</th>\n",
       "      <th>zips</th>\n",
       "      <th>id</th>\n",
       "    </tr>\n",
       "  </thead>\n",
       "  <tbody>\n",
       "    <tr>\n",
       "      <th>0</th>\n",
       "      <td>South Creek</td>\n",
       "      <td>South Creek</td>\n",
       "      <td>WA</td>\n",
       "      <td>Washington</td>\n",
       "      <td>53053</td>\n",
       "      <td>Pierce</td>\n",
       "      <td>53053</td>\n",
       "      <td>Pierce</td>\n",
       "      <td>46.9994</td>\n",
       "      <td>-122.3921</td>\n",
       "      <td>2500</td>\n",
       "      <td>125.0</td>\n",
       "      <td>polygon</td>\n",
       "      <td>False</td>\n",
       "      <td>True</td>\n",
       "      <td>America/Los_Angeles</td>\n",
       "      <td>3</td>\n",
       "      <td>98580 98387 98338</td>\n",
       "      <td>1840042075</td>\n",
       "    </tr>\n",
       "    <tr>\n",
       "      <th>1</th>\n",
       "      <td>Roslyn</td>\n",
       "      <td>Roslyn</td>\n",
       "      <td>WA</td>\n",
       "      <td>Washington</td>\n",
       "      <td>53037</td>\n",
       "      <td>Kittitas</td>\n",
       "      <td>53037</td>\n",
       "      <td>Kittitas</td>\n",
       "      <td>47.2507</td>\n",
       "      <td>-121.0989</td>\n",
       "      <td>947</td>\n",
       "      <td>84.0</td>\n",
       "      <td>polygon</td>\n",
       "      <td>False</td>\n",
       "      <td>True</td>\n",
       "      <td>America/Los_Angeles</td>\n",
       "      <td>3</td>\n",
       "      <td>98941 98068 98925</td>\n",
       "      <td>1840019842</td>\n",
       "    </tr>\n",
       "    <tr>\n",
       "      <th>2</th>\n",
       "      <td>Sprague</td>\n",
       "      <td>Sprague</td>\n",
       "      <td>WA</td>\n",
       "      <td>Washington</td>\n",
       "      <td>53043</td>\n",
       "      <td>Lincoln</td>\n",
       "      <td>53043</td>\n",
       "      <td>Lincoln</td>\n",
       "      <td>47.3048</td>\n",
       "      <td>-117.9713</td>\n",
       "      <td>441</td>\n",
       "      <td>163.0</td>\n",
       "      <td>polygon</td>\n",
       "      <td>False</td>\n",
       "      <td>True</td>\n",
       "      <td>America/Los_Angeles</td>\n",
       "      <td>3</td>\n",
       "      <td>99032</td>\n",
       "      <td>1840021107</td>\n",
       "    </tr>\n",
       "    <tr>\n",
       "      <th>3</th>\n",
       "      <td>Gig Harbor</td>\n",
       "      <td>Gig Harbor</td>\n",
       "      <td>WA</td>\n",
       "      <td>Washington</td>\n",
       "      <td>53053</td>\n",
       "      <td>Pierce</td>\n",
       "      <td>53053</td>\n",
       "      <td>Pierce</td>\n",
       "      <td>47.3352</td>\n",
       "      <td>-122.5968</td>\n",
       "      <td>9507</td>\n",
       "      <td>622.0</td>\n",
       "      <td>polygon</td>\n",
       "      <td>False</td>\n",
       "      <td>True</td>\n",
       "      <td>America/Los_Angeles</td>\n",
       "      <td>3</td>\n",
       "      <td>98332 98335</td>\n",
       "      <td>1840019855</td>\n",
       "    </tr>\n",
       "    <tr>\n",
       "      <th>4</th>\n",
       "      <td>Lake Cassidy</td>\n",
       "      <td>Lake Cassidy</td>\n",
       "      <td>WA</td>\n",
       "      <td>Washington</td>\n",
       "      <td>53061</td>\n",
       "      <td>Snohomish</td>\n",
       "      <td>53061</td>\n",
       "      <td>Snohomish</td>\n",
       "      <td>48.0639</td>\n",
       "      <td>-122.0920</td>\n",
       "      <td>3591</td>\n",
       "      <td>131.0</td>\n",
       "      <td>polygon</td>\n",
       "      <td>False</td>\n",
       "      <td>True</td>\n",
       "      <td>America/Los_Angeles</td>\n",
       "      <td>3</td>\n",
       "      <td>98223 98258 98270</td>\n",
       "      <td>1840041959</td>\n",
       "    </tr>\n",
       "    <tr>\n",
       "      <th>5</th>\n",
       "      <td>Tenino</td>\n",
       "      <td>Tenino</td>\n",
       "      <td>WA</td>\n",
       "      <td>Washington</td>\n",
       "      <td>53067</td>\n",
       "      <td>Thurston</td>\n",
       "      <td>53067</td>\n",
       "      <td>Thurston</td>\n",
       "      <td>46.8537</td>\n",
       "      <td>-122.8607</td>\n",
       "      <td>1830</td>\n",
       "      <td>491.0</td>\n",
       "      <td>polygon</td>\n",
       "      <td>False</td>\n",
       "      <td>True</td>\n",
       "      <td>America/Los_Angeles</td>\n",
       "      <td>3</td>\n",
       "      <td>98589</td>\n",
       "      <td>1840021144</td>\n",
       "    </tr>\n",
       "    <tr>\n",
       "      <th>6</th>\n",
       "      <td>Jamestown</td>\n",
       "      <td>Jamestown</td>\n",
       "      <td>WA</td>\n",
       "      <td>Washington</td>\n",
       "      <td>53009</td>\n",
       "      <td>Clallam</td>\n",
       "      <td>53009</td>\n",
       "      <td>Clallam</td>\n",
       "      <td>48.1229</td>\n",
       "      <td>-123.0911</td>\n",
       "      <td>289</td>\n",
       "      <td>191.0</td>\n",
       "      <td>polygon</td>\n",
       "      <td>False</td>\n",
       "      <td>False</td>\n",
       "      <td>America/Los_Angeles</td>\n",
       "      <td>3</td>\n",
       "      <td>98382</td>\n",
       "      <td>1840037668</td>\n",
       "    </tr>\n",
       "    <tr>\n",
       "      <th>7</th>\n",
       "      <td>Three Lakes</td>\n",
       "      <td>Three Lakes</td>\n",
       "      <td>WA</td>\n",
       "      <td>Washington</td>\n",
       "      <td>53061</td>\n",
       "      <td>Snohomish</td>\n",
       "      <td>53061</td>\n",
       "      <td>Snohomish</td>\n",
       "      <td>47.9420</td>\n",
       "      <td>-121.9924</td>\n",
       "      <td>3390</td>\n",
       "      <td>112.0</td>\n",
       "      <td>polygon</td>\n",
       "      <td>False</td>\n",
       "      <td>False</td>\n",
       "      <td>America/Los_Angeles</td>\n",
       "      <td>3</td>\n",
       "      <td>98290</td>\n",
       "      <td>1840018375</td>\n",
       "    </tr>\n",
       "    <tr>\n",
       "      <th>8</th>\n",
       "      <td>Curlew Lake</td>\n",
       "      <td>Curlew Lake</td>\n",
       "      <td>WA</td>\n",
       "      <td>Washington</td>\n",
       "      <td>53019</td>\n",
       "      <td>Ferry</td>\n",
       "      <td>53019</td>\n",
       "      <td>Ferry</td>\n",
       "      <td>48.7311</td>\n",
       "      <td>-118.6663</td>\n",
       "      <td>573</td>\n",
       "      <td>50.0</td>\n",
       "      <td>polygon</td>\n",
       "      <td>False</td>\n",
       "      <td>True</td>\n",
       "      <td>America/Los_Angeles</td>\n",
       "      <td>3</td>\n",
       "      <td>99166</td>\n",
       "      <td>1840043278</td>\n",
       "    </tr>\n",
       "    <tr>\n",
       "      <th>9</th>\n",
       "      <td>Chain Lake</td>\n",
       "      <td>Chain Lake</td>\n",
       "      <td>WA</td>\n",
       "      <td>Washington</td>\n",
       "      <td>53061</td>\n",
       "      <td>Snohomish</td>\n",
       "      <td>53061</td>\n",
       "      <td>Snohomish</td>\n",
       "      <td>47.9038</td>\n",
       "      <td>-121.9861</td>\n",
       "      <td>4280</td>\n",
       "      <td>156.0</td>\n",
       "      <td>polygon</td>\n",
       "      <td>False</td>\n",
       "      <td>True</td>\n",
       "      <td>America/Los_Angeles</td>\n",
       "      <td>3</td>\n",
       "      <td>98290</td>\n",
       "      <td>1840041915</td>\n",
       "    </tr>\n",
       "  </tbody>\n",
       "</table>\n",
       "</div>"
      ],
      "text/plain": [
       "      City Name    city_ascii State Id  State Name  County Code County Name  \\\n",
       "0   South Creek   South Creek       WA  Washington        53053      Pierce   \n",
       "1        Roslyn        Roslyn       WA  Washington        53037    Kittitas   \n",
       "2       Sprague       Sprague       WA  Washington        53043     Lincoln   \n",
       "3    Gig Harbor    Gig Harbor       WA  Washington        53053      Pierce   \n",
       "4  Lake Cassidy  Lake Cassidy       WA  Washington        53061   Snohomish   \n",
       "5        Tenino        Tenino       WA  Washington        53067    Thurston   \n",
       "6     Jamestown     Jamestown       WA  Washington        53009     Clallam   \n",
       "7   Three Lakes   Three Lakes       WA  Washington        53061   Snohomish   \n",
       "8   Curlew Lake   Curlew Lake       WA  Washington        53019       Ferry   \n",
       "9    Chain Lake    Chain Lake       WA  Washington        53061   Snohomish   \n",
       "\n",
       "  County Code_all County Name.1  Latitude  Longitude  population  density  \\\n",
       "0           53053        Pierce   46.9994  -122.3921        2500    125.0   \n",
       "1           53037      Kittitas   47.2507  -121.0989         947     84.0   \n",
       "2           53043       Lincoln   47.3048  -117.9713         441    163.0   \n",
       "3           53053        Pierce   47.3352  -122.5968        9507    622.0   \n",
       "4           53061     Snohomish   48.0639  -122.0920        3591    131.0   \n",
       "5           53067      Thurston   46.8537  -122.8607        1830    491.0   \n",
       "6           53009       Clallam   48.1229  -123.0911         289    191.0   \n",
       "7           53061     Snohomish   47.9420  -121.9924        3390    112.0   \n",
       "8           53019         Ferry   48.7311  -118.6663         573     50.0   \n",
       "9           53061     Snohomish   47.9038  -121.9861        4280    156.0   \n",
       "\n",
       "    source  military  incorporated             timezone  ranking  \\\n",
       "0  polygon     False          True  America/Los_Angeles        3   \n",
       "1  polygon     False          True  America/Los_Angeles        3   \n",
       "2  polygon     False          True  America/Los_Angeles        3   \n",
       "3  polygon     False          True  America/Los_Angeles        3   \n",
       "4  polygon     False          True  America/Los_Angeles        3   \n",
       "5  polygon     False          True  America/Los_Angeles        3   \n",
       "6  polygon     False         False  America/Los_Angeles        3   \n",
       "7  polygon     False         False  America/Los_Angeles        3   \n",
       "8  polygon     False          True  America/Los_Angeles        3   \n",
       "9  polygon     False          True  America/Los_Angeles        3   \n",
       "\n",
       "                zips          id  \n",
       "0  98580 98387 98338  1840042075  \n",
       "1  98941 98068 98925  1840019842  \n",
       "2              99032  1840021107  \n",
       "3        98332 98335  1840019855  \n",
       "4  98223 98258 98270  1840041959  \n",
       "5              98589  1840021144  \n",
       "6              98382  1840037668  \n",
       "7              98290  1840018375  \n",
       "8              99166  1840043278  \n",
       "9              98290  1840041915  "
      ]
     },
     "execution_count": 17,
     "metadata": {},
     "output_type": "execute_result"
    }
   ],
   "source": [
    "csv_data = r'C:\\Users\\HARSHAVARDHAN\\Desktop\\uscities1.csv'\n",
    "csv_data\n",
    "df = pd.read_csv(csv_data)\n",
    "df.head(10)"
   ]
  },
  {
   "cell_type": "code",
   "execution_count": 18,
   "metadata": {},
   "outputs": [
    {
     "name": "stdout",
     "output_type": "stream",
     "text": [
      "The dataframe has (28889, 19) rows and columns respectively.\n"
     ]
    }
   ],
   "source": [
    "df.shape\n",
    "print('The dataframe has', df.shape, 'rows and columns respectively.')"
   ]
  },
  {
   "cell_type": "markdown",
   "metadata": {},
   "source": [
    "# Segmenting North Carolina Information\n",
    "Since the dataframe contains information of the whole of the United States, North Carolina (NC), the State of interest was segmented from the whole and some of the column names renamed."
   ]
  },
  {
   "cell_type": "code",
   "execution_count": 19,
   "metadata": {},
   "outputs": [
    {
     "data": {
      "text/html": [
       "<div>\n",
       "<style scoped>\n",
       "    .dataframe tbody tr th:only-of-type {\n",
       "        vertical-align: middle;\n",
       "    }\n",
       "\n",
       "    .dataframe tbody tr th {\n",
       "        vertical-align: top;\n",
       "    }\n",
       "\n",
       "    .dataframe thead th {\n",
       "        text-align: right;\n",
       "    }\n",
       "</style>\n",
       "<table border=\"1\" class=\"dataframe\">\n",
       "  <thead>\n",
       "    <tr style=\"text-align: right;\">\n",
       "      <th></th>\n",
       "      <th>Neighborhood</th>\n",
       "      <th>city_ascii</th>\n",
       "      <th>State</th>\n",
       "      <th>State Name</th>\n",
       "      <th>CountyCode</th>\n",
       "      <th>County</th>\n",
       "      <th>County Code_all</th>\n",
       "      <th>County Name.1</th>\n",
       "      <th>Latitude</th>\n",
       "      <th>Longitude</th>\n",
       "      <th>population</th>\n",
       "      <th>density</th>\n",
       "      <th>source</th>\n",
       "      <th>military</th>\n",
       "      <th>incorporated</th>\n",
       "      <th>timezone</th>\n",
       "      <th>ranking</th>\n",
       "      <th>zips</th>\n",
       "      <th>id</th>\n",
       "    </tr>\n",
       "  </thead>\n",
       "  <tbody>\n",
       "    <tr>\n",
       "      <th>0</th>\n",
       "      <td>South Creek</td>\n",
       "      <td>South Creek</td>\n",
       "      <td>WA</td>\n",
       "      <td>Washington</td>\n",
       "      <td>53053</td>\n",
       "      <td>Pierce</td>\n",
       "      <td>53053</td>\n",
       "      <td>Pierce</td>\n",
       "      <td>46.9994</td>\n",
       "      <td>-122.3921</td>\n",
       "      <td>2500</td>\n",
       "      <td>125.0</td>\n",
       "      <td>polygon</td>\n",
       "      <td>False</td>\n",
       "      <td>True</td>\n",
       "      <td>America/Los_Angeles</td>\n",
       "      <td>3</td>\n",
       "      <td>98580 98387 98338</td>\n",
       "      <td>1840042075</td>\n",
       "    </tr>\n",
       "    <tr>\n",
       "      <th>1</th>\n",
       "      <td>Roslyn</td>\n",
       "      <td>Roslyn</td>\n",
       "      <td>WA</td>\n",
       "      <td>Washington</td>\n",
       "      <td>53037</td>\n",
       "      <td>Kittitas</td>\n",
       "      <td>53037</td>\n",
       "      <td>Kittitas</td>\n",
       "      <td>47.2507</td>\n",
       "      <td>-121.0989</td>\n",
       "      <td>947</td>\n",
       "      <td>84.0</td>\n",
       "      <td>polygon</td>\n",
       "      <td>False</td>\n",
       "      <td>True</td>\n",
       "      <td>America/Los_Angeles</td>\n",
       "      <td>3</td>\n",
       "      <td>98941 98068 98925</td>\n",
       "      <td>1840019842</td>\n",
       "    </tr>\n",
       "    <tr>\n",
       "      <th>2</th>\n",
       "      <td>Sprague</td>\n",
       "      <td>Sprague</td>\n",
       "      <td>WA</td>\n",
       "      <td>Washington</td>\n",
       "      <td>53043</td>\n",
       "      <td>Lincoln</td>\n",
       "      <td>53043</td>\n",
       "      <td>Lincoln</td>\n",
       "      <td>47.3048</td>\n",
       "      <td>-117.9713</td>\n",
       "      <td>441</td>\n",
       "      <td>163.0</td>\n",
       "      <td>polygon</td>\n",
       "      <td>False</td>\n",
       "      <td>True</td>\n",
       "      <td>America/Los_Angeles</td>\n",
       "      <td>3</td>\n",
       "      <td>99032</td>\n",
       "      <td>1840021107</td>\n",
       "    </tr>\n",
       "    <tr>\n",
       "      <th>3</th>\n",
       "      <td>Gig Harbor</td>\n",
       "      <td>Gig Harbor</td>\n",
       "      <td>WA</td>\n",
       "      <td>Washington</td>\n",
       "      <td>53053</td>\n",
       "      <td>Pierce</td>\n",
       "      <td>53053</td>\n",
       "      <td>Pierce</td>\n",
       "      <td>47.3352</td>\n",
       "      <td>-122.5968</td>\n",
       "      <td>9507</td>\n",
       "      <td>622.0</td>\n",
       "      <td>polygon</td>\n",
       "      <td>False</td>\n",
       "      <td>True</td>\n",
       "      <td>America/Los_Angeles</td>\n",
       "      <td>3</td>\n",
       "      <td>98332 98335</td>\n",
       "      <td>1840019855</td>\n",
       "    </tr>\n",
       "    <tr>\n",
       "      <th>4</th>\n",
       "      <td>Lake Cassidy</td>\n",
       "      <td>Lake Cassidy</td>\n",
       "      <td>WA</td>\n",
       "      <td>Washington</td>\n",
       "      <td>53061</td>\n",
       "      <td>Snohomish</td>\n",
       "      <td>53061</td>\n",
       "      <td>Snohomish</td>\n",
       "      <td>48.0639</td>\n",
       "      <td>-122.0920</td>\n",
       "      <td>3591</td>\n",
       "      <td>131.0</td>\n",
       "      <td>polygon</td>\n",
       "      <td>False</td>\n",
       "      <td>True</td>\n",
       "      <td>America/Los_Angeles</td>\n",
       "      <td>3</td>\n",
       "      <td>98223 98258 98270</td>\n",
       "      <td>1840041959</td>\n",
       "    </tr>\n",
       "  </tbody>\n",
       "</table>\n",
       "</div>"
      ],
      "text/plain": [
       "   Neighborhood    city_ascii State  State Name  CountyCode     County  \\\n",
       "0   South Creek   South Creek    WA  Washington       53053     Pierce   \n",
       "1        Roslyn        Roslyn    WA  Washington       53037   Kittitas   \n",
       "2       Sprague       Sprague    WA  Washington       53043    Lincoln   \n",
       "3    Gig Harbor    Gig Harbor    WA  Washington       53053     Pierce   \n",
       "4  Lake Cassidy  Lake Cassidy    WA  Washington       53061  Snohomish   \n",
       "\n",
       "  County Code_all County Name.1  Latitude  Longitude  population  density  \\\n",
       "0           53053        Pierce   46.9994  -122.3921        2500    125.0   \n",
       "1           53037      Kittitas   47.2507  -121.0989         947     84.0   \n",
       "2           53043       Lincoln   47.3048  -117.9713         441    163.0   \n",
       "3           53053        Pierce   47.3352  -122.5968        9507    622.0   \n",
       "4           53061     Snohomish   48.0639  -122.0920        3591    131.0   \n",
       "\n",
       "    source  military  incorporated             timezone  ranking  \\\n",
       "0  polygon     False          True  America/Los_Angeles        3   \n",
       "1  polygon     False          True  America/Los_Angeles        3   \n",
       "2  polygon     False          True  America/Los_Angeles        3   \n",
       "3  polygon     False          True  America/Los_Angeles        3   \n",
       "4  polygon     False          True  America/Los_Angeles        3   \n",
       "\n",
       "                zips          id  \n",
       "0  98580 98387 98338  1840042075  \n",
       "1  98941 98068 98925  1840019842  \n",
       "2              99032  1840021107  \n",
       "3        98332 98335  1840019855  \n",
       "4  98223 98258 98270  1840041959  "
      ]
     },
     "execution_count": 19,
     "metadata": {},
     "output_type": "execute_result"
    }
   ],
   "source": [
    "df.rename(columns={'State Id': 'State', 'County Name':'County', 'County Code':'CountyCode', 'City Name':'Neighborhood'}, inplace=True)\n",
    "df.head()"
   ]
  },
  {
   "cell_type": "code",
   "execution_count": 22,
   "metadata": {},
   "outputs": [
    {
     "data": {
      "text/html": [
       "<div>\n",
       "<style scoped>\n",
       "    .dataframe tbody tr th:only-of-type {\n",
       "        vertical-align: middle;\n",
       "    }\n",
       "\n",
       "    .dataframe tbody tr th {\n",
       "        vertical-align: top;\n",
       "    }\n",
       "\n",
       "    .dataframe thead th {\n",
       "        text-align: right;\n",
       "    }\n",
       "</style>\n",
       "<table border=\"1\" class=\"dataframe\">\n",
       "  <thead>\n",
       "    <tr style=\"text-align: right;\">\n",
       "      <th></th>\n",
       "      <th>Neighborhood</th>\n",
       "      <th>city_ascii</th>\n",
       "      <th>State</th>\n",
       "      <th>State Name</th>\n",
       "      <th>CountyCode</th>\n",
       "      <th>County</th>\n",
       "      <th>County Code_all</th>\n",
       "      <th>County Name.1</th>\n",
       "      <th>Latitude</th>\n",
       "      <th>Longitude</th>\n",
       "      <th>population</th>\n",
       "      <th>density</th>\n",
       "      <th>source</th>\n",
       "      <th>military</th>\n",
       "      <th>incorporated</th>\n",
       "      <th>timezone</th>\n",
       "      <th>ranking</th>\n",
       "      <th>zips</th>\n",
       "      <th>id</th>\n",
       "    </tr>\n",
       "  </thead>\n",
       "  <tbody>\n",
       "    <tr>\n",
       "      <th>6677</th>\n",
       "      <td>Trenton</td>\n",
       "      <td>Trenton</td>\n",
       "      <td>NC</td>\n",
       "      <td>North Carolina</td>\n",
       "      <td>37103</td>\n",
       "      <td>Jones</td>\n",
       "      <td>37103</td>\n",
       "      <td>Jones</td>\n",
       "      <td>35.0640</td>\n",
       "      <td>-77.3553</td>\n",
       "      <td>285</td>\n",
       "      <td>484.0</td>\n",
       "      <td>polygon</td>\n",
       "      <td>False</td>\n",
       "      <td>True</td>\n",
       "      <td>America/New_York</td>\n",
       "      <td>3</td>\n",
       "      <td>28585</td>\n",
       "      <td>1840016445</td>\n",
       "    </tr>\n",
       "    <tr>\n",
       "      <th>6678</th>\n",
       "      <td>Stanfield</td>\n",
       "      <td>Stanfield</td>\n",
       "      <td>NC</td>\n",
       "      <td>North Carolina</td>\n",
       "      <td>37167</td>\n",
       "      <td>Stanly</td>\n",
       "      <td>37167</td>\n",
       "      <td>Stanly</td>\n",
       "      <td>35.2336</td>\n",
       "      <td>-80.4303</td>\n",
       "      <td>1517</td>\n",
       "      <td>131.0</td>\n",
       "      <td>polygon</td>\n",
       "      <td>False</td>\n",
       "      <td>True</td>\n",
       "      <td>America/New_York</td>\n",
       "      <td>3</td>\n",
       "      <td>28163</td>\n",
       "      <td>1840016365</td>\n",
       "    </tr>\n",
       "    <tr>\n",
       "      <th>6679</th>\n",
       "      <td>Sanford</td>\n",
       "      <td>Sanford</td>\n",
       "      <td>NC</td>\n",
       "      <td>North Carolina</td>\n",
       "      <td>37105</td>\n",
       "      <td>Lee</td>\n",
       "      <td>37105</td>\n",
       "      <td>Lee</td>\n",
       "      <td>35.4874</td>\n",
       "      <td>-79.1772</td>\n",
       "      <td>34557</td>\n",
       "      <td>389.0</td>\n",
       "      <td>polygon</td>\n",
       "      <td>False</td>\n",
       "      <td>True</td>\n",
       "      <td>America/New_York</td>\n",
       "      <td>3</td>\n",
       "      <td>27330 27332 27331</td>\n",
       "      <td>1840015421</td>\n",
       "    </tr>\n",
       "    <tr>\n",
       "      <th>6680</th>\n",
       "      <td>Cofield</td>\n",
       "      <td>Cofield</td>\n",
       "      <td>NC</td>\n",
       "      <td>North Carolina</td>\n",
       "      <td>37091</td>\n",
       "      <td>Hertford</td>\n",
       "      <td>37091</td>\n",
       "      <td>Hertford</td>\n",
       "      <td>36.3567</td>\n",
       "      <td>-76.9105</td>\n",
       "      <td>382</td>\n",
       "      <td>46.0</td>\n",
       "      <td>polygon</td>\n",
       "      <td>False</td>\n",
       "      <td>True</td>\n",
       "      <td>America/New_York</td>\n",
       "      <td>3</td>\n",
       "      <td>27922</td>\n",
       "      <td>1840017704</td>\n",
       "    </tr>\n",
       "    <tr>\n",
       "      <th>6681</th>\n",
       "      <td>Thomasville</td>\n",
       "      <td>Thomasville</td>\n",
       "      <td>NC</td>\n",
       "      <td>North Carolina</td>\n",
       "      <td>37057</td>\n",
       "      <td>Davidson</td>\n",
       "      <td>37057</td>\n",
       "      <td>Davidson</td>\n",
       "      <td>35.8813</td>\n",
       "      <td>-80.0807</td>\n",
       "      <td>26615</td>\n",
       "      <td>612.0</td>\n",
       "      <td>polygon</td>\n",
       "      <td>False</td>\n",
       "      <td>True</td>\n",
       "      <td>America/New_York</td>\n",
       "      <td>3</td>\n",
       "      <td>27360 27361</td>\n",
       "      <td>1840015361</td>\n",
       "    </tr>\n",
       "  </tbody>\n",
       "</table>\n",
       "</div>"
      ],
      "text/plain": [
       "     Neighborhood   city_ascii State      State Name  CountyCode    County  \\\n",
       "6677      Trenton      Trenton    NC  North Carolina       37103     Jones   \n",
       "6678    Stanfield    Stanfield    NC  North Carolina       37167    Stanly   \n",
       "6679      Sanford      Sanford    NC  North Carolina       37105       Lee   \n",
       "6680      Cofield      Cofield    NC  North Carolina       37091  Hertford   \n",
       "6681  Thomasville  Thomasville    NC  North Carolina       37057  Davidson   \n",
       "\n",
       "     County Code_all County Name.1  Latitude  Longitude  population  density  \\\n",
       "6677           37103         Jones   35.0640   -77.3553         285    484.0   \n",
       "6678           37167        Stanly   35.2336   -80.4303        1517    131.0   \n",
       "6679           37105           Lee   35.4874   -79.1772       34557    389.0   \n",
       "6680           37091      Hertford   36.3567   -76.9105         382     46.0   \n",
       "6681           37057      Davidson   35.8813   -80.0807       26615    612.0   \n",
       "\n",
       "       source  military  incorporated          timezone  ranking  \\\n",
       "6677  polygon     False          True  America/New_York        3   \n",
       "6678  polygon     False          True  America/New_York        3   \n",
       "6679  polygon     False          True  America/New_York        3   \n",
       "6680  polygon     False          True  America/New_York        3   \n",
       "6681  polygon     False          True  America/New_York        3   \n",
       "\n",
       "                   zips          id  \n",
       "6677              28585  1840016445  \n",
       "6678              28163  1840016365  \n",
       "6679  27330 27332 27331  1840015421  \n",
       "6680              27922  1840017704  \n",
       "6681        27360 27361  1840015361  "
      ]
     },
     "execution_count": 22,
     "metadata": {},
     "output_type": "execute_result"
    }
   ],
   "source": [
    "NC_data = df[df.State == 'NC']\n",
    "NC_data.head()"
   ]
  },
  {
   "cell_type": "markdown",
   "metadata": {},
   "source": [
    "Now the NC data is sliced and the based on the needed columns for the project"
   ]
  },
  {
   "cell_type": "code",
   "execution_count": 23,
   "metadata": {},
   "outputs": [
    {
     "data": {
      "text/html": [
       "<div>\n",
       "<style scoped>\n",
       "    .dataframe tbody tr th:only-of-type {\n",
       "        vertical-align: middle;\n",
       "    }\n",
       "\n",
       "    .dataframe tbody tr th {\n",
       "        vertical-align: top;\n",
       "    }\n",
       "\n",
       "    .dataframe thead th {\n",
       "        text-align: right;\n",
       "    }\n",
       "</style>\n",
       "<table border=\"1\" class=\"dataframe\">\n",
       "  <thead>\n",
       "    <tr style=\"text-align: right;\">\n",
       "      <th></th>\n",
       "      <th>index</th>\n",
       "      <th>Neighborhood</th>\n",
       "      <th>State</th>\n",
       "      <th>State Name</th>\n",
       "      <th>County</th>\n",
       "      <th>County Code_all</th>\n",
       "      <th>Latitude</th>\n",
       "    </tr>\n",
       "  </thead>\n",
       "  <tbody>\n",
       "    <tr>\n",
       "      <th>0</th>\n",
       "      <td>6677</td>\n",
       "      <td>Trenton</td>\n",
       "      <td>NC</td>\n",
       "      <td>North Carolina</td>\n",
       "      <td>Jones</td>\n",
       "      <td>37103</td>\n",
       "      <td>35.0640</td>\n",
       "    </tr>\n",
       "    <tr>\n",
       "      <th>1</th>\n",
       "      <td>6678</td>\n",
       "      <td>Stanfield</td>\n",
       "      <td>NC</td>\n",
       "      <td>North Carolina</td>\n",
       "      <td>Stanly</td>\n",
       "      <td>37167</td>\n",
       "      <td>35.2336</td>\n",
       "    </tr>\n",
       "    <tr>\n",
       "      <th>2</th>\n",
       "      <td>6679</td>\n",
       "      <td>Sanford</td>\n",
       "      <td>NC</td>\n",
       "      <td>North Carolina</td>\n",
       "      <td>Lee</td>\n",
       "      <td>37105</td>\n",
       "      <td>35.4874</td>\n",
       "    </tr>\n",
       "    <tr>\n",
       "      <th>3</th>\n",
       "      <td>6680</td>\n",
       "      <td>Cofield</td>\n",
       "      <td>NC</td>\n",
       "      <td>North Carolina</td>\n",
       "      <td>Hertford</td>\n",
       "      <td>37091</td>\n",
       "      <td>36.3567</td>\n",
       "    </tr>\n",
       "    <tr>\n",
       "      <th>4</th>\n",
       "      <td>6681</td>\n",
       "      <td>Thomasville</td>\n",
       "      <td>NC</td>\n",
       "      <td>North Carolina</td>\n",
       "      <td>Davidson</td>\n",
       "      <td>37057</td>\n",
       "      <td>35.8813</td>\n",
       "    </tr>\n",
       "  </tbody>\n",
       "</table>\n",
       "</div>"
      ],
      "text/plain": [
       "   index Neighborhood State      State Name    County County Code_all  \\\n",
       "0   6677      Trenton    NC  North Carolina     Jones           37103   \n",
       "1   6678    Stanfield    NC  North Carolina    Stanly           37167   \n",
       "2   6679      Sanford    NC  North Carolina       Lee           37105   \n",
       "3   6680      Cofield    NC  North Carolina  Hertford           37091   \n",
       "4   6681  Thomasville    NC  North Carolina  Davidson           37057   \n",
       "\n",
       "   Latitude  \n",
       "0   35.0640  \n",
       "1   35.2336  \n",
       "2   35.4874  \n",
       "3   36.3567  \n",
       "4   35.8813  "
      ]
     },
     "execution_count": 23,
     "metadata": {},
     "output_type": "execute_result"
    }
   ],
   "source": [
    "cols = [0,2,3,5,6,8]\n",
    "NC_data = NC_data[NC_data.columns[cols]]\n",
    "NC_data.head().reset_index()"
   ]
  },
  {
   "cell_type": "code",
   "execution_count": 24,
   "metadata": {},
   "outputs": [
    {
     "name": "stdout",
     "output_type": "stream",
     "text": [
      "The dataframe has (736, 6) rows and columns respectively.\n"
     ]
    }
   ],
   "source": [
    "NC_data.shape\n",
    "print('The dataframe has', NC_data.shape, 'rows and columns respectively.')"
   ]
  },
  {
   "cell_type": "markdown",
   "metadata": {},
   "source": [
    "# Install and inport folium"
   ]
  },
  {
   "cell_type": "code",
   "execution_count": 25,
   "metadata": {},
   "outputs": [
    {
     "name": "stdout",
     "output_type": "stream",
     "text": [
      "Requirement already satisfied: folium in c:\\users\\harshavardhan\\anaconda3\\lib\\site-packages (0.11.0)\n",
      "Requirement already satisfied: numpy in c:\\users\\harshavardhan\\anaconda3\\lib\\site-packages (from folium) (1.18.1)\n",
      "Requirement already satisfied: jinja2>=2.9 in c:\\users\\harshavardhan\\anaconda3\\lib\\site-packages (from folium) (2.11.1)\n",
      "Requirement already satisfied: branca>=0.3.0 in c:\\users\\harshavardhan\\anaconda3\\lib\\site-packages (from folium) (0.4.1)\n",
      "Requirement already satisfied: requests in c:\\users\\harshavardhan\\anaconda3\\lib\\site-packages (from folium) (2.22.0)\n",
      "Requirement already satisfied: MarkupSafe>=0.23 in c:\\users\\harshavardhan\\anaconda3\\lib\\site-packages (from jinja2>=2.9->folium) (1.1.1)\n",
      "Requirement already satisfied: urllib3!=1.25.0,!=1.25.1,<1.26,>=1.21.1 in c:\\users\\harshavardhan\\anaconda3\\lib\\site-packages (from requests->folium) (1.25.8)\n",
      "Requirement already satisfied: certifi>=2017.4.17 in c:\\users\\harshavardhan\\anaconda3\\lib\\site-packages (from requests->folium) (2019.11.28)\n",
      "Requirement already satisfied: idna<2.9,>=2.5 in c:\\users\\harshavardhan\\anaconda3\\lib\\site-packages (from requests->folium) (2.8)\n",
      "Requirement already satisfied: chardet<3.1.0,>=3.0.2 in c:\\users\\harshavardhan\\anaconda3\\lib\\site-packages (from requests->folium) (3.0.4)\n",
      "Libraries imported.\n"
     ]
    }
   ],
   "source": [
    "!pip install folium\n",
    "import folium # map rendering library\n",
    "print('Libraries imported.')"
   ]
  },
  {
   "cell_type": "code",
   "execution_count": null,
   "metadata": {},
   "outputs": [],
   "source": [
    "geolocator = Nominatim()\n",
    "location = geolocator.geocode(address)\n",
    "latitude = location.latitude\n",
    "longitude = location.longitude\n",
    "\n",
    "# create map of New York using latitude and longitude values\n",
    "map = folium.Map(location=[latitude, longitude], zoom_start=10)\n",
    "\n",
    "# add markers to map\n",
    "for lat, lng, city, county in zip(NC_data['Latitude'], NC_data['Longitude'], NC_data['Neighborhood'], NC_data['County']):\n",
    "    label = '{}, {}'.format(county, city)\n",
    "    label = folium.Popup(label, parse_html=True)\n",
    "    folium.CircleMarker(\n",
    "        [lat, lng],\n",
    "        radius=5,\n",
    "        popup=label,\n",
    "        color='brown',\n",
    "        fill=True,\n",
    "        fill_color='#3186cc',\n",
    "        fill_opacity=0.7,\n",
    "        ).add_to(map) \n",
    "map"
   ]
  },
  {
   "cell_type": "markdown",
   "metadata": {},
   "source": [
    "# Segmenting Wake County <br>\n",
    "Let's simplify the above map and segment and clusters only the neighborhoods in Wake County. So let's slice the original dataframe and create a new dataframe of the Wake County data."
   ]
  },
  {
   "cell_type": "code",
   "execution_count": 27,
   "metadata": {},
   "outputs": [
    {
     "name": "stdout",
     "output_type": "stream",
     "text": [
      "The dataframe has (11, 6) rows and columns respectively.\n"
     ]
    },
    {
     "name": "stderr",
     "output_type": "stream",
     "text": [
      "C:\\Users\\HARSHAVARDHAN\\anaconda3\\lib\\site-packages\\pandas\\core\\frame.py:3997: SettingWithCopyWarning: \n",
      "A value is trying to be set on a copy of a slice from a DataFrame\n",
      "\n",
      "See the caveats in the documentation: https://pandas.pydata.org/pandas-docs/stable/user_guide/indexing.html#returning-a-view-versus-a-copy\n",
      "  errors=errors,\n"
     ]
    },
    {
     "data": {
      "text/html": [
       "<div>\n",
       "<style scoped>\n",
       "    .dataframe tbody tr th:only-of-type {\n",
       "        vertical-align: middle;\n",
       "    }\n",
       "\n",
       "    .dataframe tbody tr th {\n",
       "        vertical-align: top;\n",
       "    }\n",
       "\n",
       "    .dataframe thead th {\n",
       "        text-align: right;\n",
       "    }\n",
       "</style>\n",
       "<table border=\"1\" class=\"dataframe\">\n",
       "  <thead>\n",
       "    <tr style=\"text-align: right;\">\n",
       "      <th></th>\n",
       "      <th>index</th>\n",
       "      <th>Neighborhood</th>\n",
       "      <th>State</th>\n",
       "      <th>State Name</th>\n",
       "      <th>County</th>\n",
       "      <th>County Code_all</th>\n",
       "      <th>Latitude</th>\n",
       "    </tr>\n",
       "  </thead>\n",
       "  <tbody>\n",
       "    <tr>\n",
       "      <th>0</th>\n",
       "      <td>6710</td>\n",
       "      <td>Morrisville</td>\n",
       "      <td>NC</td>\n",
       "      <td>North Carolina</td>\n",
       "      <td>Wake</td>\n",
       "      <td>37183</td>\n",
       "      <td>35.8366</td>\n",
       "    </tr>\n",
       "    <tr>\n",
       "      <th>1</th>\n",
       "      <td>6722</td>\n",
       "      <td>Knightdale</td>\n",
       "      <td>NC</td>\n",
       "      <td>North Carolina</td>\n",
       "      <td>Wake</td>\n",
       "      <td>37183</td>\n",
       "      <td>35.7917</td>\n",
       "    </tr>\n",
       "    <tr>\n",
       "      <th>2</th>\n",
       "      <td>6904</td>\n",
       "      <td>Apex</td>\n",
       "      <td>NC</td>\n",
       "      <td>North Carolina</td>\n",
       "      <td>Wake</td>\n",
       "      <td>37183</td>\n",
       "      <td>35.7246</td>\n",
       "    </tr>\n",
       "    <tr>\n",
       "      <th>3</th>\n",
       "      <td>6917</td>\n",
       "      <td>Cary</td>\n",
       "      <td>NC</td>\n",
       "      <td>North Carolina</td>\n",
       "      <td>Wake</td>\n",
       "      <td>37183|37037</td>\n",
       "      <td>35.7817</td>\n",
       "    </tr>\n",
       "    <tr>\n",
       "      <th>4</th>\n",
       "      <td>6919</td>\n",
       "      <td>Raleigh</td>\n",
       "      <td>NC</td>\n",
       "      <td>North Carolina</td>\n",
       "      <td>Wake</td>\n",
       "      <td>37183|37063</td>\n",
       "      <td>35.8324</td>\n",
       "    </tr>\n",
       "    <tr>\n",
       "      <th>5</th>\n",
       "      <td>6929</td>\n",
       "      <td>Garner</td>\n",
       "      <td>NC</td>\n",
       "      <td>North Carolina</td>\n",
       "      <td>Wake</td>\n",
       "      <td>37183</td>\n",
       "      <td>35.6938</td>\n",
       "    </tr>\n",
       "    <tr>\n",
       "      <th>6</th>\n",
       "      <td>7063</td>\n",
       "      <td>Fuquay-Varina</td>\n",
       "      <td>NC</td>\n",
       "      <td>North Carolina</td>\n",
       "      <td>Wake</td>\n",
       "      <td>37183</td>\n",
       "      <td>35.5961</td>\n",
       "    </tr>\n",
       "    <tr>\n",
       "      <th>7</th>\n",
       "      <td>7084</td>\n",
       "      <td>Wake Forest</td>\n",
       "      <td>NC</td>\n",
       "      <td>North Carolina</td>\n",
       "      <td>Wake</td>\n",
       "      <td>37183|37069</td>\n",
       "      <td>35.9634</td>\n",
       "    </tr>\n",
       "    <tr>\n",
       "      <th>8</th>\n",
       "      <td>7108</td>\n",
       "      <td>Zebulon</td>\n",
       "      <td>NC</td>\n",
       "      <td>North Carolina</td>\n",
       "      <td>Wake</td>\n",
       "      <td>37183</td>\n",
       "      <td>35.8318</td>\n",
       "    </tr>\n",
       "    <tr>\n",
       "      <th>9</th>\n",
       "      <td>7289</td>\n",
       "      <td>Wendell</td>\n",
       "      <td>NC</td>\n",
       "      <td>North Carolina</td>\n",
       "      <td>Wake</td>\n",
       "      <td>37183</td>\n",
       "      <td>35.7823</td>\n",
       "    </tr>\n",
       "    <tr>\n",
       "      <th>10</th>\n",
       "      <td>7395</td>\n",
       "      <td>Holly Springs</td>\n",
       "      <td>NC</td>\n",
       "      <td>North Carolina</td>\n",
       "      <td>Wake</td>\n",
       "      <td>37183</td>\n",
       "      <td>35.6540</td>\n",
       "    </tr>\n",
       "  </tbody>\n",
       "</table>\n",
       "</div>"
      ],
      "text/plain": [
       "    index   Neighborhood State      State Name County County Code_all  \\\n",
       "0    6710    Morrisville    NC  North Carolina   Wake           37183   \n",
       "1    6722     Knightdale    NC  North Carolina   Wake           37183   \n",
       "2    6904           Apex    NC  North Carolina   Wake           37183   \n",
       "3    6917           Cary    NC  North Carolina   Wake     37183|37037   \n",
       "4    6919        Raleigh    NC  North Carolina   Wake     37183|37063   \n",
       "5    6929         Garner    NC  North Carolina   Wake           37183   \n",
       "6    7063  Fuquay-Varina    NC  North Carolina   Wake           37183   \n",
       "7    7084    Wake Forest    NC  North Carolina   Wake     37183|37069   \n",
       "8    7108        Zebulon    NC  North Carolina   Wake           37183   \n",
       "9    7289        Wendell    NC  North Carolina   Wake           37183   \n",
       "10   7395  Holly Springs    NC  North Carolina   Wake           37183   \n",
       "\n",
       "    Latitude  \n",
       "0    35.8366  \n",
       "1    35.7917  \n",
       "2    35.7246  \n",
       "3    35.7817  \n",
       "4    35.8324  \n",
       "5    35.6938  \n",
       "6    35.5961  \n",
       "7    35.9634  \n",
       "8    35.8318  \n",
       "9    35.7823  \n",
       "10   35.6540  "
      ]
     },
     "execution_count": 27,
     "metadata": {},
     "output_type": "execute_result"
    }
   ],
   "source": [
    "wake_data = NC_data[NC_data.County == 'Wake']\n",
    "wake_data.drop(wake_data.index[2], inplace=True)\n",
    "print('The dataframe has', wake_data.shape, 'rows and columns respectively.')\n",
    "wake_data.reset_index()"
   ]
  },
  {
   "cell_type": "code",
   "execution_count": null,
   "metadata": {},
   "outputs": [],
   "source": [
    "address = 'Wake, NC'\n",
    "\n",
    "geolocator = Nominatim()\n",
    "location = geolocator.geocode(address)\n",
    "latitude = location.latitude\n",
    "longitude = location.longitude\n",
    "print('The geograpical coordinate of Wake, NC are {}, {}.'.format(latitude, longitude))"
   ]
  },
  {
   "cell_type": "markdown",
   "metadata": {},
   "source": [
    "Now let's get the latitude and longitude values of Wake County, NC"
   ]
  },
  {
   "cell_type": "code",
   "execution_count": null,
   "metadata": {},
   "outputs": [],
   "source": [
    "map_wake = folium.Map(location=[Latitude, longitude], zoom_start=11)\n",
    "\n",
    "# add markers to map\n",
    "for lat, lng, label in zip(wake_data['Latitude'], wake_data['Longitude'], wake_data['Neighborhood']):\n",
    "    label = folium.Popup(label, parse_html=True)\n",
    "    folium.CircleMarker(\n",
    "        [lat, lng],\n",
    "        radius=15,\n",
    "        popup=label,\n",
    "        color='brown',\n",
    "        fill=True,\n",
    "        fill_color='#3186cc',\n",
    "        fill_opacity=0.7).add_to(map_wake)  \n",
    "    \n",
    "map_wake\n"
   ]
  },
  {
   "cell_type": "markdown",
   "metadata": {},
   "source": [
    "# Visualizing Wake County Sliced Data"
   ]
  },
  {
   "cell_type": "code",
   "execution_count": null,
   "metadata": {},
   "outputs": [],
   "source": [
    "\n",
    "map_wake = folium.Map(location=[latitude, longitude], zoom_start=11)\n",
    "\n",
    "# add markers to map\n",
    "for lat, lng, label in zip(wake_data['Latitude'], wake_data['Longitude'], wake_data['Neighborhood']):\n",
    "    label = folium.Popup(label, parse_html=True)\n",
    "    folium.CircleMarker(\n",
    "        [lat, lng],\n",
    "        radius=15,\n",
    "        popup=label,\n",
    "        color='brown',\n",
    "        fill=True,\n",
    "        fill_color='#3186cc',\n",
    "        fill_opacity=0.7).add_to(map_wake)  \n",
    "    \n",
    "map_wake\n"
   ]
  },
  {
   "cell_type": "markdown",
   "metadata": {},
   "source": [
    "Wake County Neighborhood Cluster\n",
    "Now, the next thing to do is to utilize the Foursquare API to explore the wake county neighborhoods and segment them.\n",
    "\n",
    "Let's define Foursquare Credentials and Version"
   ]
  },
  {
   "cell_type": "code",
   "execution_count": 33,
   "metadata": {},
   "outputs": [
    {
     "name": "stdout",
     "output_type": "stream",
     "text": [
      "Your credentails:\n",
      "CLIENT_ID: your Foursquare ID\n",
      "CLIENT_SECRET:your Foursquare Secret\n"
     ]
    }
   ],
   "source": [
    "CLIENT_ID = 'your Foursquare ID'\n",
    "CLIENT_SECRET = 'your Foursquare Secret'\n",
    "VERSION = '20180605'\n",
    "\n",
    "print('Your credentails:')\n",
    "print('CLIENT_ID: ' + CLIENT_ID)\n",
    "print('CLIENT_SECRET:' + CLIENT_SECRET)"
   ]
  },
  {
   "cell_type": "markdown",
   "metadata": {},
   "source": [
    "\n",
    "Let's explore the first neighborhood in the Wake County dataframe."
   ]
  },
  {
   "cell_type": "code",
   "execution_count": null,
   "metadata": {},
   "outputs": [],
   "source": [
    "wake_data.loc[7225,'Neighborhood']\n",
    "print('The first neighborhood is', wake_data.loc[7225,'Neighborhood'])"
   ]
  },
  {
   "cell_type": "markdown",
   "metadata": {},
   "source": [
    "Now we get the first neighborhood's latitude and longitude values.¶"
   ]
  },
  {
   "cell_type": "code",
   "execution_count": null,
   "metadata": {},
   "outputs": [],
   "source": [
    "neighborhood_latitude = wake_data.loc[7225, 'Latitude'] # neighborhood latitude value\n",
    "neighborhood_longitude = wake_data.loc[7225, 'Longitude'] # neighborhood longitude value\n",
    "\n",
    "neighborhood_name = wake_data.loc[7225, 'Neighborhood'] # neighborhood name\n",
    "\n",
    "print('Latitude and longitude values of {} are {}, {}.'.format(neighborhood_name, \n",
    "                                                               neighborhood_latitude, \n",
    "                                                               neighborhood_longitude))"
   ]
  },
  {
   "cell_type": "markdown",
   "metadata": {},
   "source": [
    "# Now, let's get the top 100 venues that are in Marble Hill within a radius of 500 meters."
   ]
  },
  {
   "cell_type": "code",
   "execution_count": null,
   "metadata": {},
   "outputs": [],
   "source": [
    "# type your answer here\n",
    "LIMIT = 100 # limit of number of venues returned by Foursquare API\n",
    "radius = 500 # define radius\n",
    "# create URL\n",
    "url = 'https://api.foursquare.com/v2/venues/explore?&client_id={}&client_secret={}&v={}&ll={},{}&radius={}&limit={}'.format(\n",
    "    CLIENT_ID, \n",
    "    CLIENT_SECRET, \n",
    "    VERSION, \n",
    "    neighborhood_latitude, \n",
    "    neighborhood_longitude, \n",
    "    radius, \n",
    "    LIMIT)\n",
    "url # display URL\n",
    "\n",
    "results = requests.get(url).json()"
   ]
  },
  {
   "cell_type": "markdown",
   "metadata": {},
   "source": [
    "use the get_category_type function to get the category types."
   ]
  },
  {
   "cell_type": "code",
   "execution_count": null,
   "metadata": {},
   "outputs": [],
   "source": [
    "\n",
    "# function that extracts the category of the venue\n",
    "def get_category_type(row):\n",
    "    try:\n",
    "        categories_list = row['categories']\n",
    "    except:\n",
    "        categories_list = row['venue.categories']\n",
    "        \n",
    "    if len(categories_list) == 0:\n",
    "        return None\n",
    "    else:\n",
    "        return categories_list[0]['name']"
   ]
  },
  {
   "cell_type": "markdown",
   "metadata": {},
   "source": [
    "# Now data is cleaned and structured into a pandas dataframe."
   ]
  },
  {
   "cell_type": "code",
   "execution_count": null,
   "metadata": {},
   "outputs": [],
   "source": [
    "    \n",
    "nearby_venues = json_normalize(venues) # flatten JSON\n",
    "\n",
    "# filter columns\n",
    "filtered_columns = ['venue.name', 'venue.categories', 'venue.location.lat', 'venue.location.lng']\n",
    "nearby_venues =nearby_venues.loc[:, filtered_columns]\n",
    "\n",
    "# filter the category for each row\n",
    "nearby_venues['venue.categories'] = nearby_venues.apply(get_category_type, axis=1)\n",
    "\n",
    "# clean columns\n",
    "nearby_venues.columns = [col.split(\".\")[-1] for col in nearby_venues.columns]\n",
    "\n",
    "nearby_venues.head()"
   ]
  },
  {
   "cell_type": "code",
   "execution_count": null,
   "metadata": {},
   "outputs": [],
   "source": [
    "print('{} venues were returned by Foursquare.'.format(nearby_venues.shape[0]))"
   ]
  },
  {
   "cell_type": "markdown",
   "metadata": {},
   "source": [
    "# Let us explore neighbourhoods"
   ]
  },
  {
   "cell_type": "markdown",
   "metadata": {},
   "source": [
    "Let's create a function to collect the venues to all the neighborhoods in Wake County"
   ]
  },
  {
   "cell_type": "code",
   "execution_count": null,
   "metadata": {},
   "outputs": [],
   "source": [
    "def getNearbyVenues(names, latitudes, longitudes, radius=500):\n",
    "    \n",
    "    venues_list=[]\n",
    "    for name, lat, lng in zip(names, latitudes, longitudes):\n",
    "        print(name)\n",
    "            \n",
    "        # create the API request URL\n",
    "        url = 'https://api.foursquare.com/v2/venues/explore?&client_id={}&client_secret={}&v={}&ll={},{}&radius={}&limit={}'.format(\n",
    "            CLIENT_ID, \n",
    "            CLIENT_SECRET, \n",
    "            VERSION, \n",
    "            lat, \n",
    "            lng, \n",
    "            radius, \n",
    "            LIMIT)\n",
    "            \n",
    "        # make the GET request\n",
    "        results = requests.get(url).json()[\"response\"]['groups'][0]['items']\n",
    "        \n",
    "        # return only relevant information for each nearby venue\n",
    "        venues_list.append([(\n",
    "            name, \n",
    "            lat, \n",
    "            lng, \n",
    "            v['venue']['name'], \n",
    "            v['venue']['location']['lat'], \n",
    "            v['venue']['location']['lng'],  \n",
    "            v['venue']['categories'][0]['name']) for v in results])\n",
    "\n",
    "    nearby_venues = pd.DataFrame([item for venue_list in venues_list for item in venue_list])\n",
    "    nearby_venues.columns = ['Neighborhood', \n",
    "                  'Neighborhood Latitude', \n",
    "                  'Neighborhood Longitude', \n",
    "                  'Venue', \n",
    "                  'Venue Latitude', \n",
    "                  'Venue Longitude', \n",
    "                  'Venue Category']\n",
    "    \n",
    "    return(nearby_venues)\n"
   ]
  },
  {
   "cell_type": "markdown",
   "metadata": {},
   "source": [
    "let's write the code to run the above function on each neighborhood and create a new dataframe called Wake County_venues."
   ]
  },
  {
   "cell_type": "code",
   "execution_count": null,
   "metadata": {},
   "outputs": [],
   "source": [
    "wake_venues = getNearbyVenues(names=wake_data['Neighborhood'],\n",
    "                                   latitudes=wake_data['Latitude'],\n",
    "                                   longitudes=wake_data['Longitude']\n",
    "                                  )\n",
    "print('There are', wake_venues.shape, 'rows and columns of venues and neighborhoods in Wake County.')\n",
    "wake_venues.head(10)"
   ]
  },
  {
   "cell_type": "markdown",
   "metadata": {},
   "source": [
    "There are (106, 7) rows and columns of venues and neighborhoods in Wake County."
   ]
  },
  {
   "cell_type": "code",
   "execution_count": null,
   "metadata": {},
   "outputs": [],
   "source": [
    "plot1=wake_venues[\"Neighborhood\"].value_counts().plot(kind = \"bar\")\n",
    "plot1.set_xlabel('Neighborhood')\n",
    "plot1.set_ylabel('Venue Count')"
   ]
  },
  {
   "cell_type": "markdown",
   "metadata": {},
   "source": [
    "Let's check how many venues were returned for each neighborhood"
   ]
  },
  {
   "cell_type": "code",
   "execution_count": null,
   "metadata": {},
   "outputs": [],
   "source": [
    "venue_counts = wake_venues.groupby('Neighborhood').count()\n",
    "venue_counts"
   ]
  },
  {
   "cell_type": "markdown",
   "metadata": {},
   "source": [
    "Let's find out how many unique categories can be curated from all the returned venues"
   ]
  },
  {
   "cell_type": "code",
   "execution_count": null,
   "metadata": {},
   "outputs": [],
   "source": [
    "print('There are {} uniques categories.'.format(len(wake_venues['Venue Category'].unique())))"
   ]
  },
  {
   "cell_type": "markdown",
   "metadata": {},
   "source": [
    "There are 62 uniques categories."
   ]
  },
  {
   "cell_type": "markdown",
   "metadata": {},
   "source": [
    "Let's print each neighborhood along with the top 5 most common venues"
   ]
  },
  {
   "cell_type": "code",
   "execution_count": null,
   "metadata": {},
   "outputs": [],
   "source": [
    "num_top_venues = 5\n",
    "\n",
    "for hood in wake_grouped['Neighborhood']:\n",
    "    print(\"----\"+hood+\"----\")\n",
    "    temp = wake_grouped[wake_grouped['Neighborhood'] == hood].T.reset_index()\n",
    "    temp.columns = ['venue','freq']\n",
    "    temp = temp.iloc[1:]\n",
    "    temp['freq'] = temp['freq'].astype(float)\n",
    "    temp = temp.round({'freq': 2})\n",
    "    print(temp.sort_values('freq', ascending=False).reset_index(drop=True).head(num_top_venues))\n",
    "    print('\\n')"
   ]
  },
  {
   "cell_type": "markdown",
   "metadata": {},
   "source": [
    "<b>Let's put that into a pandas dataframe</b> <br>\n",
    "First, let's write a function to sort the venues in descending order."
   ]
  },
  {
   "cell_type": "code",
   "execution_count": null,
   "metadata": {},
   "outputs": [],
   "source": [
    "def return_most_common_venues(row, num_top_venues):\n",
    "    row_categories = row.iloc[1:]\n",
    "    row_categories_sorted = row_categories.sort_values(ascending=False)\n",
    "    \n",
    "    return row_categories_sorted.index.values[0:num_top_venues]"
   ]
  },
  {
   "cell_type": "markdown",
   "metadata": {},
   "source": [
    "Now let's create the new dataframe and display the top 10 venues for each neighborhood."
   ]
  },
  {
   "cell_type": "code",
   "execution_count": null,
   "metadata": {},
   "outputs": [],
   "source": [
    "num_top_venues = 10\n",
    "\n",
    "indicators = ['st', 'nd', 'rd']\n",
    "\n",
    "# create columns according to number of top venues\n",
    "columns = ['Neighborhood']\n",
    "for ind in np.arange(num_top_venues):\n",
    "    try:\n",
    "        columns.append('{}{} Most Common Venue'.format(ind+1, indicators[ind]))\n",
    "    except:\n",
    "        columns.append('{}th Most Common Venue'.format(ind+1))\n",
    "\n",
    "# create a new dataframe\n",
    "neighborhoods_venues_sorted = pd.DataFrame(columns=columns)\n",
    "neighborhoods_venues_sorted['Neighborhood'] = wake_grouped['Neighborhood']\n",
    "\n",
    "for ind in np.arange(wake_grouped.shape[0]):\n",
    "    neighborhoods_venues_sorted.iloc[ind, 1:] = return_most_common_venues(wake_grouped.iloc[ind, :], num_top_venues)\n",
    "\n",
    "neighborhoods_venues_sorted"
   ]
  },
  {
   "cell_type": "code",
   "execution_count": null,
   "metadata": {},
   "outputs": [],
   "source": [
    "neighborhoods_venues_sorted.shape\n",
    "print('The dataframe has', neighborhoods_venues_sorted.shape, 'rows and columns respectively.')"
   ]
  },
  {
   "cell_type": "markdown",
   "metadata": {},
   "source": [
    "\n",
    "The dataframe has (12, 11) rows and columns respectively."
   ]
  },
  {
   "cell_type": "markdown",
   "metadata": {},
   "source": [
    "Let's Cluster the Neighborhoods in Wake County.\n",
    "Run k-means to cluster the neighborhood into 4 clusters."
   ]
  },
  {
   "cell_type": "code",
   "execution_count": null,
   "metadata": {},
   "outputs": [],
   "source": [
    "# set number of clusters\n",
    "kclusters = 4\n",
    "\n",
    "wake_grouped_clustering = wake_grouped.drop('Neighborhood', 1)\n",
    "\n",
    "# run k-means clustering\n",
    "kmeans = KMeans(n_clusters=kclusters, random_state=0).fit(wake_grouped_clustering)\n",
    "\n",
    "# check cluster labels generated for each row in the dataframe\n",
    "kmeans.labels_[0:10]"
   ]
  },
  {
   "cell_type": "markdown",
   "metadata": {},
   "source": [
    "Let's create a new dataframe that includes the cluster as well as the top 10 venues for each neighborhood."
   ]
  },
  {
   "cell_type": "code",
   "execution_count": null,
   "metadata": {},
   "outputs": [],
   "source": [
    "wake_merged = wake_data\n",
    "\n",
    "# add clustering labels\n",
    "wake_merged['Cluster Labels'] = kmeans.labels_\n",
    "\n",
    "# merge toronto_grouped with toronto_data to add latitude/longitude for each neighborhood\n",
    "wake_merged = wake_merged.join(neighborhoods_venues_sorted.set_index('Neighborhood'), on='Neighborhood')\n",
    "\n",
    "wake_merged"
   ]
  },
  {
   "cell_type": "markdown",
   "metadata": {},
   "source": [
    "# let's visualize the resulting clusters"
   ]
  },
  {
   "cell_type": "code",
   "execution_count": null,
   "metadata": {},
   "outputs": [],
   "source": [
    "# create map\n",
    "map_clusters = folium.Map(location=[latitude, longitude], zoom_start=11)\n",
    "\n",
    "# set color scheme for the clusters\n",
    "x = np.arange(kclusters)\n",
    "ys = [i+x+(i*x)**2 for i in range(kclusters)]\n",
    "colors_array = cm.rainbow(np.linspace(0, 1, len(ys)))\n",
    "rainbow = [colors.rgb2hex(i) for i in colors_array]\n",
    "\n",
    "# add markers to the map\n",
    "markers_colors = []\n",
    "for lat, lon, poi, cluster in zip(wake_merged['Latitude'], wake_merged['Longitude'], wake_merged['Neighborhood'], wake_merged['Cluster Labels']):\n",
    "    label = folium.Popup(str(poi) + ' Cluster ' + str(cluster), parse_html=True)\n",
    "    folium.CircleMarker(\n",
    "        [lat, lon],\n",
    "        radius=15,\n",
    "        popup=label,\n",
    "        color=rainbow[cluster-1],\n",
    "        fill=True,\n",
    "        fill_color=rainbow[cluster-1],\n",
    "        fill_opacity=0.7).add_to(map_clusters)\n",
    "       \n",
    "from folium.plugins import FloatImage\n",
    "image_file = 'http://printad.us/wp-content/uploads/2018/07/wake-county-zip-code-map-maps-wake-county-north-carolina-map-a-history-of-zip-code-wake-for-557-x-575-pixels.jpg'\n",
    "\n",
    "FloatImage(image_file, bottom=0, left=70).add_to(map_clusters)\n",
    "map_clusters"
   ]
  },
  {
   "cell_type": "code",
   "execution_count": null,
   "metadata": {},
   "outputs": [],
   "source": [
    "import matplotlib.pyplot as plt\n",
    "plt.figure(figsize=(10,10))\n",
    "#wake_merged.hist(column='Density')\n",
    "wake_merged.plot(kind='bar',x='Neighborhood',y='Density', color=rainbow[cluster])\n",
    "plt.show()"
   ]
  },
  {
   "cell_type": "markdown",
   "metadata": {},
   "source": [
    "# Segmenting Mecklenburg County, NC.\n"
   ]
  },
  {
   "cell_type": "markdown",
   "metadata": {},
   "source": [
    "Let's simplify the above map and segment and cluster only the neighborhoods in Mecklenburg County. So let's slice the original dataframe and create a new dataframe of the Mecklenburg County data."
   ]
  },
  {
   "cell_type": "code",
   "execution_count": null,
   "metadata": {},
   "outputs": [],
   "source": [
    "mecklenburg_data = NC_data[NC_data.County == 'Mecklenburg']\n",
    "#mecklenburg_data.drop(mecklenburg_data.index[2], inplace=True)\n",
    "print('The dataframe has', mecklenburg_data.shape, 'rows and columns respectively.')\n",
    "mecklenburg_data.reset_index()"
   ]
  },
  {
   "cell_type": "markdown",
   "metadata": {},
   "source": [
    "The dataframe has (10, 6) rows and columns respectively."
   ]
  },
  {
   "cell_type": "code",
   "execution_count": null,
   "metadata": {},
   "outputs": [],
   "source": [
    "address = 'Mecklenburg, NC'\n",
    "\n",
    "geolocator = Nominatim()\n",
    "location = geolocator.geocode(address)\n",
    "latitude = location.latitude\n",
    "longitude = location.longitude\n",
    "print('The geograpical coordinate of Mecklenburg, NC are {}, {}.'.format(latitude, longitude))"
   ]
  },
  {
   "cell_type": "markdown",
   "metadata": {},
   "source": [
    "The geograpical coordinate of Mecklenburg, NC are 35.2356385, -80.8139485."
   ]
  },
  {
   "cell_type": "markdown",
   "metadata": {},
   "source": [
    "\n",
    "Let's get the first neighborhood in Mecklenburg County"
   ]
  },
  {
   "cell_type": "code",
   "execution_count": null,
   "metadata": {},
   "outputs": [],
   "source": [
    "print('The first neighborhood in Mecklenburg County is', mecklenburg_data.loc[7182, 'Neighborhood'])"
   ]
  },
  {
   "cell_type": "markdown",
   "metadata": {},
   "source": [
    "The first neighborhood in Mecklenburg County is Paw Creek"
   ]
  },
  {
   "cell_type": "markdown",
   "metadata": {},
   "source": [
    "# Let's get the first 100 venues"
   ]
  },
  {
   "cell_type": "code",
   "execution_count": null,
   "metadata": {},
   "outputs": [],
   "source": [
    "LIMIT = 100 # limit of number of venues returned by Foursquare API\n",
    "radius = 500 # define radius\n",
    "# create URL\n",
    "url = 'https://api.foursquare.com/v2/venues/explore?&client_id={}&client_secret={}&v={}&ll={},{}&radius={}&limit={}'.format(\n",
    "    CLIENT_ID, \n",
    "    CLIENT_SECRET, \n",
    "    VERSION, \n",
    "    neighborhood_latitude, \n",
    "    neighborhood_longitude, \n",
    "    radius, \n",
    "    LIMIT)\n",
    "url # display URL"
   ]
  },
  {
   "cell_type": "markdown",
   "metadata": {},
   "source": [
    "Now let's get the categories using the get_category_type"
   ]
  },
  {
   "cell_type": "code",
   "execution_count": null,
   "metadata": {},
   "outputs": [],
   "source": [
    "def get_category_type(row):\n",
    "    try:\n",
    "        categories_list = row['categories']\n",
    "    except:\n",
    "        categories_list = row['venue.categories']\n",
    "        \n",
    "    if len(categories_list) == 0:\n",
    "        return None\n",
    "    else:\n",
    "        return categories_list[0]['name']"
   ]
  },
  {
   "cell_type": "markdown",
   "metadata": {},
   "source": [
    "# Let's clean the data and load into a pandas dataframe"
   ]
  },
  {
   "cell_type": "code",
   "execution_count": null,
   "metadata": {},
   "outputs": [],
   "source": [
    "venues = results['response']['groups'][0]['items']\n",
    "    \n",
    "nearby_venues = json_normalize(venues) # flatten JSON\n",
    "\n",
    "# filter columns\n",
    "filtered_columns = ['venue.name', 'venue.categories', 'venue.location.lat', 'venue.location.lng']\n",
    "nearby_venues =nearby_venues.loc[:, filtered_columns]\n",
    "\n",
    "# filter the category for each row\n",
    "nearby_venues['venue.categories'] = nearby_venues.apply(get_category_type, axis=1)\n",
    "\n",
    "# clean columns\n",
    "nearby_venues.columns = [col.split(\".\")[-1] for col in nearby_venues.columns]\n",
    "\n",
    "nearby_venues.head()"
   ]
  },
  {
   "cell_type": "code",
   "execution_count": null,
   "metadata": {},
   "outputs": [],
   "source": [
    "print('{} venues were returned by Foursquare.'.format(nearby_venues.shape[0]))"
   ]
  },
  {
   "cell_type": "markdown",
   "metadata": {},
   "source": [
    "5 venues were returned by Foursquare."
   ]
  },
  {
   "cell_type": "markdown",
   "metadata": {},
   "source": [
    "# Let's explore nearby venues"
   ]
  },
  {
   "cell_type": "code",
   "execution_count": null,
   "metadata": {},
   "outputs": [],
   "source": [
    "def getNearbyVenues(names, latitudes, longitudes, radius=500):\n",
    "    \n",
    "    venues_list=[]\n",
    "    for name, lat, lng in zip(names, latitudes, longitudes):\n",
    "        print(name)\n",
    "            \n",
    "        # create the API request URL\n",
    "        url = 'https://api.foursquare.com/v2/venues/explore?&client_id={}&client_secret={}&v={}&ll={},{}&radius={}&limit={}'.format(\n",
    "            CLIENT_ID, \n",
    "            CLIENT_SECRET, \n",
    "            VERSION, \n",
    "            lat, \n",
    "            lng, \n",
    "            radius, \n",
    "            LIMIT)\n",
    "            \n",
    "        # make the GET request\n",
    "        results = requests.get(url).json()[\"response\"]['groups'][0]['items']\n",
    "        \n",
    "        # return only relevant information for each nearby venue\n",
    "        venues_list.append([(\n",
    "            name, \n",
    "            lat, \n",
    "            lng, \n",
    "            v['venue']['name'], \n",
    "            v['venue']['location']['lat'], \n",
    "            v['venue']['location']['lng'],  \n",
    "            v['venue']['categories'][0]['name']) for v in results])\n",
    "\n",
    "    nearby_venues = pd.DataFrame([item for venue_list in venues_list for item in venue_list])\n",
    "    nearby_venues.columns = ['Neighborhood', \n",
    "                  'Neighborhood Latitude', \n",
    "                  'Neighborhood Longitude', \n",
    "                  'Venue', \n",
    "                  'Venue Latitude', \n",
    "                  'Venue Longitude', \n",
    "                  'Venue Category']\n",
    "    \n",
    "    return(nearby_venues)"
   ]
  },
  {
   "cell_type": "markdown",
   "metadata": {},
   "source": [
    "Now let's write the code to run the above function on each neighborhood and create a new dataframe called mecklenburg_venues."
   ]
  },
  {
   "cell_type": "code",
   "execution_count": null,
   "metadata": {},
   "outputs": [],
   "source": [
    "mecklenburg_venues = getNearbyVenues(names=mecklenburg_data['Neighborhood'],\n",
    "                                   latitudes=mecklenburg_data['Latitude'],\n",
    "                                   longitudes=mecklenburg_data['Longitude']\n",
    "                                  )"
   ]
  },
  {
   "cell_type": "code",
   "execution_count": null,
   "metadata": {},
   "outputs": [],
   "source": [
    "print('There are', mecklenburg_venues.shape, 'rows and columns venues and neighborhoods in Mecklenburg County.')\n",
    "mecklenburg_venues.head(10)"
   ]
  },
  {
   "cell_type": "markdown",
   "metadata": {},
   "source": [
    "There are (71, 7) rows and columns venues and neighborhoods in Mecklenburg County."
   ]
  },
  {
   "cell_type": "markdown",
   "metadata": {},
   "source": [
    "\n",
    "Let's look at the number of venues returned for each neighborhood"
   ]
  },
  {
   "cell_type": "code",
   "execution_count": null,
   "metadata": {},
   "outputs": [],
   "source": [
    "mecklenburg_venues.groupby('Neighborhood').count()"
   ]
  },
  {
   "cell_type": "markdown",
   "metadata": {},
   "source": [
    "# Mecklenburg County Neighborhood Analysis"
   ]
  },
  {
   "cell_type": "code",
   "execution_count": null,
   "metadata": {},
   "outputs": [],
   "source": [
    "\n",
    "# one hot encoding\n",
    "mecklenburg_onehot = pd.get_dummies(mecklenburg_venues[['Venue Category']], prefix=\"\", prefix_sep=\"\")\n",
    "\n",
    "# add neighborhood column back to dataframe\n",
    "mecklenburg_onehot['Neighborhood'] = mecklenburg_venues['Neighborhood'] \n",
    "\n",
    "# move neighborhood column to the first column\n",
    "fixed_columns = [mecklenburg_onehot.columns[-1]] + list(mecklenburg_onehot.columns[:-1])\n",
    "mecklenburg_onehot = mecklenburg_onehot[fixed_columns]\n",
    "\n",
    "mecklenburg_onehot.head()"
   ]
  },
  {
   "cell_type": "markdown",
   "metadata": {},
   "source": [
    "Next, let's group rows by neighborhood by taking the mean of the frequency of occurrence of each category"
   ]
  },
  {
   "cell_type": "code",
   "execution_count": null,
   "metadata": {},
   "outputs": [],
   "source": [
    "mecklenburg_grouped = mecklenburg_onehot.groupby('Neighborhood').mean().reset_index()\n",
    "mecklenburg_grouped"
   ]
  },
  {
   "cell_type": "markdown",
   "metadata": {},
   "source": [
    "\n",
    "Let's again print each neighborhood along with the top 5 venues"
   ]
  },
  {
   "cell_type": "code",
   "execution_count": null,
   "metadata": {},
   "outputs": [],
   "source": [
    "\n",
    "for hood in mecklenburg_grouped['Neighborhood']:\n",
    "    print(\"----\"+hood+\"----\")\n",
    "    temp = mecklenburg_grouped[mecklenburg_grouped['Neighborhood'] == hood].T.reset_index()\n",
    "    temp.columns = ['venue','freq']\n",
    "    temp = temp.iloc[1:]\n",
    "    temp['freq'] = temp['freq'].astype(float)\n",
    "    temp = temp.round({'freq': 2})\n",
    "    print(temp.sort_values('freq', ascending=False).reset_index(drop=True).head(num_top_venues))\n",
    "    print('\\n')"
   ]
  },
  {
   "cell_type": "markdown",
   "metadata": {},
   "source": [
    "Let's again put this into a pandas dataframe\n",
    "Let's write a function to sort venues in decending order"
   ]
  },
  {
   "cell_type": "code",
   "execution_count": null,
   "metadata": {},
   "outputs": [],
   "source": [
    "def return_most_common_venues(row, num_top_venues):\n",
    "    row_categories = row.iloc[1:]\n",
    "    row_categories_sorted = row_categories.sort_values(ascending=False)\n",
    "    \n",
    "    return row_categories_sorted.index.values[0:num_top_venues]"
   ]
  },
  {
   "cell_type": "markdown",
   "metadata": {},
   "source": [
    "\n",
    "Now let's create the new dataframe and display the top 10 venues for each neighborhood."
   ]
  },
  {
   "cell_type": "code",
   "execution_count": null,
   "metadata": {},
   "outputs": [],
   "source": [
    "num_top_venues = 10\n",
    "\n",
    "indicators = ['st', 'nd', 'rd']\n",
    "\n",
    "# create columns according to number of top venues\n",
    "columns = ['Neighborhood']\n",
    "for ind in np.arange(num_top_venues):\n",
    "    try:\n",
    "        columns.append('{}{} Most Common Venue'.format(ind+1, indicators[ind]))\n",
    "    except:\n",
    "        columns.append('{}th Most Common Venue'.format(ind+1))\n",
    "\n",
    "# create a new dataframe\n",
    "neighborhoods_venues_sorted = pd.DataFrame(columns=columns)\n",
    "neighborhoods_venues_sorted['Neighborhood'] = mecklenburg_grouped['Neighborhood']\n",
    "\n",
    "for ind in np.arange(mecklenburg_grouped.shape[0]):\n",
    "    neighborhoods_venues_sorted.iloc[ind, 1:] = return_most_common_venues(mecklenburg_grouped.iloc[ind, :], num_top_venues)\n",
    "\n",
    "neighborhoods_venues_sorted\n"
   ]
  },
  {
   "cell_type": "markdown",
   "metadata": {},
   "source": [
    "# Mecklenburg County Neighborhood Clustering"
   ]
  },
  {
   "cell_type": "code",
   "execution_count": null,
   "metadata": {},
   "outputs": [],
   "source": [
    "# set number of clusters\n",
    "kclusters = 4\n",
    "\n",
    "mecklenburg_grouped_clustering = mecklenburg_grouped.drop('Neighborhood', 1)\n",
    "\n",
    "# run k-means clustering\n",
    "kmeans = KMeans(n_clusters=kclusters, random_state=0).fit(mecklenburg_grouped_clustering)\n",
    "\n",
    "# check cluster labels generated for each row in the dataframe\n",
    "kmeans.labels_[0:10]"
   ]
  },
  {
   "cell_type": "markdown",
   "metadata": {},
   "source": [
    "\n",
    "Let's create a new dataframe that includes the cluster as well as the top 10 venues for each neighborhood."
   ]
  },
  {
   "cell_type": "code",
   "execution_count": null,
   "metadata": {},
   "outputs": [],
   "source": [
    "mecklenburg_merged = mecklenburg_data\n",
    "\n",
    "# add clustering labels\n",
    "mecklenburg_merged['Cluster Labels'] = kmeans.labels_\n",
    "\n",
    "# merge toronto_grouped with toronto_data to add latitude/longitude for each neighborhood\n",
    "mecklenburg_merged = mecklenburg_merged.join(neighborhoods_venues_sorted.set_index('Neighborhood'), on='Neighborhood')\n",
    "\n",
    "mecklenburg_merged"
   ]
  },
  {
   "cell_type": "markdown",
   "metadata": {},
   "source": [
    "# Finally, let's visualize the resulting clusters"
   ]
  },
  {
   "cell_type": "code",
   "execution_count": null,
   "metadata": {},
   "outputs": [],
   "source": [
    "# create map\n",
    "map_clusters = folium.Map(location=[latitude, longitude], zoom_start=11)\n",
    "\n",
    "# set color scheme for the clusters\n",
    "x = np.arange(kclusters)\n",
    "ys = [i+x+(i*x)**2 for i in range(kclusters)]\n",
    "colors_array = cm.rainbow(np.linspace(0, 1, len(ys)))\n",
    "rainbow = [colors.rgb2hex(i) for i in colors_array]\n",
    "\n",
    "# add markers to the map\n",
    "markers_colors = []\n",
    "for lat, lon, poi, cluster in zip(mecklenburg_merged['Latitude'], mecklenburg_merged['Longitude'], mecklenburg_merged['Neighborhood'], mecklenburg_merged['Cluster Labels']):\n",
    "    label = folium.Popup(str(poi) + ' Cluster ' + str(cluster), parse_html=True)\n",
    "    folium.CircleMarker(\n",
    "        [lat, lon],\n",
    "        radius=20,\n",
    "        popup=label,\n",
    "        color=rainbow[cluster-1],\n",
    "        fill=True,\n",
    "        fill_color=rainbow[cluster-1],\n",
    "        fill_opacity=0.7).add_to(map_clusters)\n",
    "      \n",
    "from folium.plugins import FloatImage\n",
    "image_file = 'http://www.carolana.com/NC/Counties/Images/Mecklenburg_County_NC_Map.jpg'\n",
    "\n",
    "FloatImage(image_file, bottom=0, left=70).add_to(map_clusters)\n",
    "map_clusters\n",
    "\n",
    "\n",
    "import matplotlib.pyplot as plt\n",
    "plt.figure(figsize=(10,10))\n",
    "#mecklenburg_merged.hist(column='Density')\n",
    "mecklenburg_merged.plot(kind='bar',x='Neighborhood',y='Density', color=rainbow[cluster])\n",
    "plt.show()"
   ]
  },
  {
   "cell_type": "markdown",
   "metadata": {},
   "source": [
    "# Dear reviewer please note that the cells are not run only the explaination and code is shown because it would make the notebook very long please see the reports for the result. Thank you have a nice day."
   ]
  },
  {
   "cell_type": "code",
   "execution_count": null,
   "metadata": {},
   "outputs": [],
   "source": []
  },
  {
   "cell_type": "code",
   "execution_count": null,
   "metadata": {},
   "outputs": [],
   "source": []
  }
 ],
 "metadata": {
  "kernelspec": {
   "display_name": "Python 3",
   "language": "python",
   "name": "python3"
  },
  "language_info": {
   "codemirror_mode": {
    "name": "ipython",
    "version": 3
   },
   "file_extension": ".py",
   "mimetype": "text/x-python",
   "name": "python",
   "nbconvert_exporter": "python",
   "pygments_lexer": "ipython3",
   "version": "3.7.6"
  }
 },
 "nbformat": 4,
 "nbformat_minor": 4
}
